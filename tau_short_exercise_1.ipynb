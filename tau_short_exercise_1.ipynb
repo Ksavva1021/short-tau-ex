{
 "cells": [
  {
   "cell_type": "markdown",
   "metadata": {},
   "source": [
    "<h1 align=\"center\"><font color='black'>Short Tau Exercise</font></h1>\n",
    "<h2 align=\"center\"> <font color='blue'>Part 1</font></h2>\n",
    "\n"
   ]
  },
  {
   "cell_type": "markdown",
   "metadata": {},
   "source": [
    "<div class=\"alert alert-block alert-success\">  \n",
    "<b>Learning Objectives:</b>  \n",
    "\n",
    "* __the reconstruction of hadronic tau decays in different decay modes__ (Part 1)\n",
    "* discrimination of hadronic tau decays against jets, electrons, and muons. (Part 2)\n",
    "</div>"
   ]
  },
  {
   "cell_type": "markdown",
   "metadata": {},
   "source": [
    "Additional material:\n",
    "\n",
    "* <a href=\"http://cms-results.web.cern.ch/cms-results/public-results/publications/TAU-16-003/index.html\">TAU-16-003: Latest paper about tau reconstruction</a>\n",
    "* <a href=\"https://cds.cern.ch/record/2694158\">DeepTau: Algorithm based on neural networks to discriminate taus against jets, muons, and electrons</a>"
   ]
  },
  {
   "cell_type": "code",
   "execution_count": 8,
   "metadata": {
    "scrolled": true
   },
   "outputs": [],
   "source": [
    "import ROOT\n",
    "from dm_migration import dm_migration\n",
    "from prettytable import PrettyTable"
   ]
  },
  {
   "cell_type": "code",
   "execution_count": 9,
   "metadata": {},
   "outputs": [
    {
     "data": {
      "application/javascript": [
       "IPython.OutputArea.prototype._should_scroll = function(lines) {\n",
       "    return false\n",
       "}\n"
      ],
      "text/plain": [
       "<IPython.core.display.Javascript object>"
      ]
     },
     "metadata": {},
     "output_type": "display_data"
    }
   ],
   "source": [
    "%%javascript\n",
    "IPython.OutputArea.prototype._should_scroll = function(lines) {\n",
    "    return false\n",
    "}"
   ]
  },
  {
   "cell_type": "markdown",
   "metadata": {},
   "source": [
    "### How do taus actually decay?\n",
    "Here's a table from the TAU-16-003 paper linked above that associates the different tau decay modes together with their branching fractions and whether the decay proceeds via an intermediate resonance:\n",
    "\n",
    "<img src=\"tau_decays.png\" width=\"800\" height=\"500\">\n",
    "\n",
    "Since decays of tau leptons to electrons or muons and neutrinos are experimentally very different with respect to decays to hadrons and a neutrino, they are covered by different physics object groups. In the CMS tau reconstruction, we focus only on reconstructing hadronic tau decays.\n",
    "\n",
    "### Inputs for the exercise\n",
    "The ROOT files used in this exercise are created from simulated events in the CMS detector. \n",
    "\n",
    "__Contents of the ROOT files:__ (Contents preprocessed using tau validation tools <a href=\"https://github.com/cms-tau-pog/TauReleaseValidation\">here</a>)\n",
    "* Generated hadronic tau decays\n",
    "* Other generated particles\n",
    "* Information about spatially matched reconstructed hadronic tau decays (To study tau reconstruction efficiency)\n",
    "\n",
    "\n",
    "__Additional Information__:\n",
    "* In the ROOT files, a TTree \"per tau\" is found that contains one entry per generated tau\n",
    "* The branches for reconstructed taus are only filled with values different from `-999` if a reconstructed hadronic tau was found (Allows to study which fraction of taus was successfully reconstructed)\n",
    "* Reconstructed taus have `pt > 18 GeV` and `|eta| < 2.3`\n",
    "* Generated taus have `pt > 10 GeV` and `|eta| < 2.3`\n",
    "\n",
    "Given that our reconstruction targets hadronic taus with `pt > 20 GeV`, we usually restrict to this range.  "
   ]
  },
  {
   "cell_type": "markdown",
   "metadata": {},
   "source": [
    "<div class=\"alert alert-block alert-warning\">  \n",
    "<b>Note:</b> \n",
    "Many analyses actually apply tighter cuts, e.g. `pt > 30 GeV`, and it will be interesting to check at each stage in this notebook how things change when increasing the pT cut even if you're not explicitly asked to do so\n",
    "</div>"
   ]
  },
  {
   "cell_type": "code",
   "execution_count": 14,
   "metadata": {},
   "outputs": [],
   "source": [
    "base_dir = '/eos/user/c/cmsdas/2023/short-ex-tau' # if you're running from swan.cern.ch\n",
    "#base_dir = './inputFiles/' # if you're running from local after downloading the input root files\n",
    "tau_sample = f'{base_dir}/dy_nanoaod_v6_gen_tuple.root'\n",
    "tau_file = ROOT.TFile.Open(tau_sample)\n",
    "tau_tree = tau_file.Get('tree')"
   ]
  },
  {
   "cell_type": "markdown",
   "metadata": {},
   "source": [
    "In this notebook, one can investigate which variables are contained in the tree and how they are distributed. One can also investigate this by other means such as with a TBrowser."
   ]
  },
  {
   "cell_type": "code",
   "execution_count": 6,
   "metadata": {},
   "outputs": [
    {
     "name": "stdout",
     "output_type": "stream",
     "text": [
      "+------------------------------+\n",
      "|           Branches           |\n",
      "+------------------------------+\n",
      "|             run              |\n",
      "|             lumi             |\n",
      "|            event             |\n",
      "|             nvtx             |\n",
      "|            ngvtx             |\n",
      "|             rho              |\n",
      "|             gpud             |\n",
      "|             npu              |\n",
      "|           ntrueint           |\n",
      "|             pud              |\n",
      "|             eoot             |\n",
      "|             loot             |\n",
      "|            tau_pt            |\n",
      "|           tau_eta            |\n",
      "|           tau_phi            |\n",
      "|           tau_mass           |\n",
      "|           tau_dxy            |\n",
      "|            tau_dz            |\n",
      "|          tau_charge          |\n",
      "|        tau_decayMode         |\n",
      "|        tau_chargedIso        |\n",
      "|      tau_leadTkDeltaEta      |\n",
      "|      tau_leadTkDeltaPhi      |\n",
      "|    tau_leadTkPtOverTauPt     |\n",
      "|        tau_neutralIso        |\n",
      "| tau_photonsOutsideSignalCone |\n",
      "|          tau_puCorr          |\n",
      "|        tau_rawAntiEle        |\n",
      "|          tau_rawIso          |\n",
      "|    tau_rawMVAnewDM2017v2     |\n",
      "|      tau_rawAntiEleCat       |\n",
      "|        tau_idAntiEle         |\n",
      "|         tau_idAntiMu         |\n",
      "|     tau_idMVAnewDM2017v2     |\n",
      "|        tau_genPartIdx        |\n",
      "|       tau_genPartFlav        |\n",
      "| tau_rawDeepTau2017v2p1VSjet  |\n",
      "|  tau_rawDeepTau2017v2p1VSmu  |\n",
      "|  tau_rawDeepTau2017v2p1VSe   |\n",
      "|  tau_idDeepTau2017v2p1VSjet  |\n",
      "|  tau_idDeepTau2017v2p1VSmu   |\n",
      "|   tau_idDeepTau2017v2p1VSe   |\n",
      "|       tau_idDecayMode        |\n",
      "|    tau_idDecayModeNewDMs     |\n",
      "|          tau_gen_pt          |\n",
      "|         tau_gen_eta          |\n",
      "|         tau_gen_phi          |\n",
      "|         tau_gen_mass         |\n",
      "|        tau_gen_charge        |\n",
      "|      tau_gen_decayMode       |\n",
      "|          tau_jet_pt          |\n",
      "|         tau_jet_eta          |\n",
      "|         tau_jet_phi          |\n",
      "|         tau_jet_mass         |\n",
      "+------------------------------+\n"
     ]
    }
   ],
   "source": [
    "# Print all branch names\n",
    "x = PrettyTable()\n",
    "x.field_names = [\"Branches\"]\n",
    "branch_names = [g.GetName() for g in tau_tree.GetListOfBranches()]\n",
    "[x.add_row([name]) for name in branch_names]\n",
    "print(x)"
   ]
  },
  {
   "cell_type": "code",
   "execution_count": 16,
   "metadata": {
    "scrolled": true
   },
   "outputs": [
    {
     "data": {
      "image/png": "[encoded data removed]",
      "text/plain": [
       "<IPython.core.display.Image object>"
      ]
     },
     "metadata": {},
     "output_type": "display_data"
    }
   ],
   "source": [
    "# Manually draw distributions of variables obtained from the following list, like one would do with a TBrowser\n",
    "cv = ROOT.TCanvas()\n",
    "cv.SetFillColor(0)  # Set canvas background color\n",
    "\n",
    "tau_tree.Draw('tau_pt>>h(10,0,100)', 'tau_pt > 0. && tau_pt<100') # only draw if tau was actually reconstructed\n",
    "#tau_tree.Draw('tau_pt>>h(10,0,200)')\n",
    "\n",
    "h = ROOT.gROOT.FindObject(\"h\")\n",
    "h.SetLineColor(ROOT.kBlue)  # Set line color for histogram\n",
    "h.SetFillColor(ROOT.kCyan)  # Set fill color for histogram\n",
    "h.SetLineWidth(3)  # Set line width for histogram\n",
    "\n",
    "h.SetTitle(\"\")\n",
    "h.GetXaxis().SetTitle(\"p_{T} (GeV)\")  # Set x-axis label\n",
    "h.GetYaxis().SetTitle(\"Entries\")  # Set y-axis label\n",
    "cv.Draw()"
   ]
  },
  {
   "cell_type": "markdown",
   "metadata": {},
   "source": [
    "### CMS Tau Reconstruction\n",
    "\n",
    "The CMS tau reconstruction initially focussed on 3 main decay modes:\n",
    "* __One-prong__ - Decay Mode 0 \n",
    "* __One-prong + $\\pi_{0}$__ - Decay Mode 1/2/3/4 \n",
    "* __Three-prong__ - Decay Mode 11\n",
    "\n",
    "In the tau reconstruction code, we give integer values to the decay modes via the relation __`dm = 5*(n_charged - 1) + n_pi0`__, as added in parentheses above.\n",
    "\n",
    "To check whether a tau is reconstructed in any of these \"old\" decay modes, there is a flag __`tau_decayModeFinding`__.\n",
    "\n",
    "#### Additional Decay Mode\n",
    "* __Three-prong + $\\pi_{0}$__ - Decay Mode 11\n",
    "\n",
    "Furthermore, we also try to reconstruct taus that have a 3-prong decay on generator level (dms 10, 11) but where one charged hadron is not reconstructed. These new reconstructed decay modes are sometimes called \"2-prong modes\":\n",
    "* __3-prong with missing charged hadron and no $\\pi_{0}$__ - Reco Decay Mode 5\n",
    "* __3-prong with missing charged hadron and $\\pi_{0}$__ - Reco Decay Mode 6\n",
    "\n",
    "There is a flag __`tau_decayModeFindingNewDMs`__ that checks if the tau was reconstructed in any of the decay modes. It is always true for reconstructed taus in the considered trees (and in MiniAOD), so we do not explicitly check it in the examples below.\n"
   ]
  },
  {
   "cell_type": "markdown",
   "metadata": {},
   "source": [
    "<div class=\"alert alert-block alert-warning\">  \n",
    "<b>Note:</b> \n",
    "For simplicity, we do not separately look at old decay modes only (<b>tau_decayModeFinding</b>) below. It can be an interesting exercise to see how much the overall reconstruction efficiency decreases when considering only these old decay modes\n",
    "</div>"
   ]
  },
  {
   "cell_type": "markdown",
   "metadata": {},
   "source": [
    "<div class=\"alert alert-block alert-info\">\n",
    "<b> Let's investigate how efficiently taus are reconstructed</b>\n",
    "</div>"
   ]
  },
  {
   "cell_type": "code",
   "execution_count": 34,
   "metadata": {},
   "outputs": [
    {
     "name": "stdout",
     "output_type": "stream",
     "text": [
      "Out of 2916433 generated taus 2134293 are reconstructed\n",
      "Efficiency: \u001b[1;32m0.732\u001b[0m\n",
      "Out of 2916433 generated taus 1770703 also pass the 'old' decay mode finding\n",
      "Efficiency: \u001b[1;31m0.607\u001b[0m\n"
     ]
    }
   ],
   "source": [
    "# We're interested in taus well within the tracker acceptance and with minimum pT\n",
    "base_sel = 'tau_gen_pt>20. && abs(tau_gen_eta)<2.3'\n",
    "\n",
    "n_all = tau_tree.Draw('1', base_sel)\n",
    "n_pass = tau_tree.Draw('1', 'tau_pt>20 &&' + base_sel)\n",
    "print(\"Out of\", n_all,'generated taus', n_pass, 'are reconstructed')\n",
    "efficiency = f'{n_pass/n_all:.3f}'\n",
    "print(f'Efficiency: \\033[1;32m{efficiency}\\033[0m')\n",
    "\n",
    "# Let's consider the old decay modes\n",
    "n_pass = tau_tree.Draw('1', 'tau_idDecayMode && tau_pt>20 &&' + base_sel)\n",
    "print(\"Out of\",n_all,\"generated taus\", n_pass, \"also pass the 'old' decay mode finding\")\n",
    "efficiency = f'{n_pass/n_all:.3f}'\n",
    "print(f'Efficiency: \\033[1;31m{efficiency}\\033[0m')"
   ]
  },
  {
   "cell_type": "markdown",
   "metadata": {},
   "source": [
    "### How does the inclusive reconstruction efficiency come about?\n",
    "\n",
    "The tau reconstruction proceeds as follows:\n",
    "* First, the tau reconstruction is seeded by a jet (this step is very efficient)\n",
    "* Second, charged hadron candidates are identified and $\\pi_{0}$ candidates are reconstructed from photons (the latter need to fulfil some minimal criteria)\n",
    "* Third, all possible tau candidates are built from the charged hadrons and $\\pi_{0}$s, with the charged hadrons and pi0s required to be in a narrow cone around the reconstructed tau axis. The reconstructed taus are also checked for compatibility with the masses of intermediate resonances __$\\rho$(770 MeV) and $\\alpha_{0}$(1260 MeV)__.\n",
    "* Fourth, the best tau candidate is retained. Of all taus that are reconstructed in one of the decay modes including cuts on the mass compatibility, the one with highest pT is retained.\n",
    "\n",
    "<img src=\"HPS.png\" width=\"400\">\n",
    "\n",
    "\n",
    "**Which effects do you think limit the tau reconstruction efficiency?**\n",
    "\n",
    "There are at least 3 relevant effects:\n",
    "* The reconstruction efficiency for individual tau decay products, in particular for charged hadrons, is limited: In particular, the reconstruction efficiency for charged hadrons is 90% to good approximation and regardless of pT. *What does this imply for 1-prong and 3-prong taus?*\n",
    "* For taus near the kinematic threshold, which we chose above to be 20 GeV, the reconstructed pT may be lower than the generated one.\n",
    "* A wrong tau candidate may be selected as the best tau candidate, which can happen in particular if the mass compatibility criteria fail."
   ]
  },
  {
   "cell_type": "markdown",
   "metadata": {},
   "source": [
    "<div class=\"alert alert-block alert-info\">\n",
    "<b>To study the first, it's useful to check the efficiency per decay mode.</b>\n",
    "</div>"
   ]
  },
  {
   "cell_type": "markdown",
   "metadata": {},
   "source": [
    "#### Decay Mode 0"
   ]
  },
  {
   "cell_type": "code",
   "execution_count": 35,
   "metadata": {},
   "outputs": [
    {
     "name": "stdout",
     "output_type": "stream",
     "text": [
      "Efficiency: 0.874\n"
     ]
    }
   ],
   "source": [
    "base_sel = 'tau_gen_pt>20. && abs(tau_gen_eta)<2.3 && tau_gen_decayMode==0'\n",
    "n_all = tau_tree.Draw('1', base_sel)\n",
    "n_pass = tau_tree.Draw('1', 'tau_pt>20 &&' + base_sel)\n",
    "print(f'Efficiency: {n_pass/n_all:.3f}')"
   ]
  },
  {
   "cell_type": "markdown",
   "metadata": {},
   "source": [
    "The efficiency is nearly 90% for 1-prong taus without $\\pi_{0}$, which is in line with our expectation that the reconstruction efficiency is merely limited by the charged hadron reconstruction efficiency."
   ]
  },
  {
   "cell_type": "markdown",
   "metadata": {},
   "source": [
    "<div class=\"alert alert-block alert-warning\">  \n",
    "\n",
    "<b>Can you print the inclusive reconstruction efficiencies for the other decay modes?</b>\n",
    "\n",
    "<b>Hint</b>: Use generated decay modes 1 and 2 for 1-prong + $\\pi_{0}$; decay mode 10 for 3-prong taus; and decay mode 11 for 3-prong taus + $\\pi_{0}$\n",
    "    \n",
    "</div>"
   ]
  },
  {
   "cell_type": "code",
   "execution_count": 1,
   "metadata": {},
   "outputs": [],
   "source": [
    "# Your code goes here"
   ]
  },
  {
   "cell_type": "markdown",
   "metadata": {},
   "source": [
    "<div class=\"alert alert-block alert-warning\">  \n",
    "\n",
    "Besides reconstructing the tau at all, it may also be interesting to understand whether the tau is actually reconstructed in its corresponding decay mode. \n",
    "\n",
    "<b>Can you check how often taus are reconstructed in the correct decay mode? </b>\n",
    "    \n",
    "</div>"
   ]
  },
  {
   "cell_type": "code",
   "execution_count": 3,
   "metadata": {},
   "outputs": [],
   "source": [
    "# Your code goes here\n",
    "# Hint: use an expression like 'tau_decayMode == 0' when you calculate the number of passing events"
   ]
  },
  {
   "cell_type": "markdown",
   "metadata": {},
   "source": [
    "<div class=\"alert alert-block alert-info\">\n",
    "<b>Not only the reconstruction efficiency for single particles limits the tau efficiency, but also the pT resolution of the reconstructed particles and the criteria we impose on the mass. Let's investigate how they look!</b>\n",
    "</div>"
   ]
  },
  {
   "cell_type": "code",
   "execution_count": 40,
   "metadata": {
    "scrolled": true
   },
   "outputs": [
    {
     "data": {
      "image/png": "[encoded data removed]",
      "text/plain": [
       "<IPython.core.display.Image object>"
      ]
     },
     "metadata": {},
     "output_type": "display_data"
    }
   ],
   "source": [
    "# We use a minimum generated pT of 30. so we do not run into threshold effects \n",
    "# given we only have reconstructed taus with pT > 18 GeV in the trees\n",
    "base_sel = 'tau_gen_pt>30. && abs(tau_gen_eta)<2.3'\n",
    "h_res = ROOT.TH1F('h_res', '', 30, -20., 10.)\n",
    "h_res.GetXaxis().SetTitle(\"#tau_{h} reco - gen p_{T} (GeV)\")\n",
    "h_res.GetYaxis().SetTitle(\"N\")\n",
    "tau_tree.Project('h_res', 'tau_pt - tau_gen_pt', base_sel)\n",
    "canvas = ROOT.TCanvas()\n",
    "h_res.Draw()\n",
    "canvas.Draw()"
   ]
  },
  {
   "cell_type": "markdown",
   "metadata": {},
   "source": [
    "<div class=\"alert alert-block alert-warning\">  \n",
    "\n",
    "There is a nice peak at 0, as one would expect, but also a tail towards lower reconstructed values.\n",
    "\n",
    "<b>Can you find out if this tail comes from particular generated decay modes?</b>\n",
    "</div>    "
   ]
  },
  {
   "cell_type": "code",
   "execution_count": 4,
   "metadata": {},
   "outputs": [],
   "source": [
    "# Your code goes here.\n",
    "# Hint: Select a specific generated decay mode in the base_sel string.\n",
    "# It can also be interesting to see if these tails arise if taus are reconstructed in a wrong decay mode."
   ]
  },
  {
   "cell_type": "markdown",
   "metadata": {},
   "source": [
    "To draw a nice plot of the decay mode migration matrix, we can use a short script that makes decay mode migration plots from a passed TTree. This plot gives very useful diagnostic information about the tau reconstruction since it gives the fractions of taus that are reconstructed in the right decay mode, in any decay mode, and of those that are not reconstructed at all."
   ]
  },
  {
   "cell_type": "code",
   "execution_count": 42,
   "metadata": {
    "scrolled": true
   },
   "outputs": [
    {
     "data": {
      "image/png": "[encoded data removed]",
      "text/plain": [
       "<IPython.core.display.Image object>"
      ]
     },
     "metadata": {},
     "output_type": "display_data"
    }
   ],
   "source": [
    "canvas = dm_migration(tau_tree,canvas_title='decay_mode_matrix')\n",
    "canvas.Draw()"
   ]
  },
  {
   "cell_type": "markdown",
   "metadata": {},
   "source": [
    "<div class=\"alert alert-block alert-warning\">  \n",
    "The function takes as one possible argument a generator cut, which is by default set to\n",
    "`gen_cut='tau_genpt>20 && abs(tau_geneta)<2.3'`\n",
    "\n",
    "<b>Does the decay mode matrix change for higher tau pT?</b>\n",
    "</div>"
   ]
  },
  {
   "cell_type": "code",
   "execution_count": 5,
   "metadata": {},
   "outputs": [],
   "source": [
    "# Your code to make the plot with different generator cuts goes here"
   ]
  },
  {
   "cell_type": "markdown",
   "metadata": {},
   "source": [
    "<div class=\"alert alert-block alert-warning\">  \n",
    "<b>Advanced exercise:</b>\n",
    "\n",
    "Investigate the dm_migration script: It takes as additional arguments a string that converts the decay mode information to integers and a list of labels. Can you divide the 1-prong + $\\pi_{0}$ decay modes into ones with a single $\\pi_{0}$ and ones with more than 1 $\\pi_{0}$? Is our reconstruction able to disentangle taus with different numbers of $\\pi_{0}$?\n",
    "</div>"
   ]
  },
  {
   "cell_type": "code",
   "execution_count": 6,
   "metadata": {},
   "outputs": [],
   "source": [
    "# Your code goes here"
   ]
  }
 ],
 "metadata": {
  "kernelspec": {
   "display_name": "Python 3",
   "language": "python",
   "name": "python3"
  },
  "language_info": {
   "codemirror_mode": {
    "name": "ipython",
    "version": 3
   },
   "file_extension": ".py",
   "mimetype": "text/x-python",
   "name": "python",
   "nbconvert_exporter": "python",
   "pygments_lexer": "ipython3",
   "version": "3.9.12"
  }
 },
 "nbformat": 4,
 "nbformat_minor": 4
}
